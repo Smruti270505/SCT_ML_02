{
 "cells": [
  {
   "cell_type": "code",
   "execution_count": null,
   "id": "f6e92b62-aa32-4877-b547-31c8ca3730d6",
   "metadata": {},
   "outputs": [],
   "source": []
  }
 ],
 "metadata": {
  "kernelspec": {
   "display_name": "",
   "name": ""
  },
  "language_info": {
   "name": ""
  }
 },
 "nbformat": 4,
 "nbformat_minor": 5
}
